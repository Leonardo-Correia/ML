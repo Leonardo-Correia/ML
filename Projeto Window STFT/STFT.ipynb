{
 "cells": [
  {
   "cell_type": "code",
   "execution_count": 7,
   "metadata": {},
   "outputs": [],
   "source": [
    "import numpy as np\n",
    "import matplotlib.pyplot as plt\n",
    "from scipy import signal"
   ]
  },
  {
   "cell_type": "code",
   "execution_count": 40,
   "metadata": {},
   "outputs": [
    {
     "data": {
      "image/png": "[encoded data removed]",
      "text/plain": [
       "<Figure size 432x288 with 1 Axes>"
      ]
     },
     "metadata": {},
     "output_type": "display_data"
    }
   ],
   "source": [
    "def window_nonzero(window_function, segment_length):\n",
    "    \"\"\"Generate a window vector such that there will be no zeros at the \n",
    "    beginning or end of the vector\n",
    "    \n",
    "    This function creates a vector of values for a specified window. It \n",
    "    will increase the window length until the returned window\n",
    "    contains no zeros and then truncate the window so that it still has\n",
    "    length N.\n",
    "    \n",
    "    Parameters\n",
    "    ----------\n",
    "    window_function : scipy.signal.window object\n",
    "    segment_length : int\n",
    "    \n",
    "    Returns\n",
    "    -------\n",
    "    window_vector : 1d array\n",
    "    Notes\n",
    "    -----\n",
    "    This function should not be used if the selected window has zeros on\n",
    "    the interior that are surrounded by non-zero values\n",
    "    (eg, [1, 1, 0, 1, 1]).\n",
    "    \n",
    "    \"\"\"\n",
    "\n",
    "    zero_exist = 1\n",
    "    zero_count = 0\n",
    "    \n",
    "    window_vector = window_function(segment_length+zero_count)\n",
    "\n",
    "    while zero_exist:\n",
    "            \n",
    "        start = int( zero_count / 2 )\n",
    "        stop = int( len(window_vector) - zero_count / 2)\n",
    "        window_vector = window_vector[start : stop]\n",
    "\n",
    "        zero_count = len(window_vector) - np.count_nonzero(window_vector)\n",
    "        \n",
    "        if zero_count > 0:\n",
    "            window_vector = window_function(segment_length+zero_count)\n",
    "        else:\n",
    "            zero_exist = 0\n",
    "\n",
    "    return window_vector\n"
   ]
  },
  {
   "cell_type": "code",
   "execution_count": null,
   "metadata": {},
   "outputs": [],
   "source": [
    "def create_overlapping_segments(x, segment_length, shift_length):\n",
    "    \"\"\"Split signal along the first dimension into overlapping subarrays\n",
    "    This functio will convert an N-dimensional array into an\n",
    "    (N+1)-dimensional array.\n",
    "    Parameters\n",
    "    ----------\n",
    "    x : array_like\n",
    "        Segments extracted along the first dimension.\n",
    "    segment_length : int\n",
    "        length of extracted segments\n",
    "    shift_length : int\n",
    "        shift length 1 <= shift_length <= segment_length \n",
    "        This parmaeter controls how much overlap there is between segments\n",
    "        Set it to ``segment_length`` for no overlap\n",
    "    \n",
    "    Returns\n",
    "    -------\n",
    "    x_segments : array_like\n",
    "        array of segments (segments inserted as second dimension)\n",
    "    start_list : list of ints\n",
    "        segment starting locations\n",
    "    stop_list : list of ints\n",
    "        segment end locations\n",
    "    \n",
    "    \"\"\"\n",
    "\n",
    "    # input argument checks\n",
    "    if type(x) is not np.ndarray:\n",
    "        raise ValueError(\"x is not numpy array\")\n",
    "    if segment_length > x.shape[0]:\n",
    "        raise ValueError(\"segment_length is greater than x.shape[0]\")\n",
    "    if shift_length <= 0:\n",
    "        raise ValueError(\"shift_length <= 0\")\n",
    "    if shift_length > segment_length:\n",
    "        raise ValueError(\"shift_length > segment_length\")\n",
    "\n",
    "    # squeeze x to get rid of extra dimensions\n",
    "    x = np.squeeze(x)\n",
    "    \n",
    "    # start/stop positions\n",
    "    start_list = np.arange(0, x.shape[0], shift_length)\n",
    "    stop_list = start_list + segment_length\n",
    "\n",
    "    # if last segments extend outside the array, remove them\n",
    "    index = [i <= x.shape[0] for i in stop_list]\n",
    "    start_list = start_list[index]\n",
    "    stop_list = stop_list[index]\n",
    "\n",
    "    # if last segment does not include end of the array, add a segment\n",
    "    if stop_list[-1] != x.shape[0]:\n",
    "        stop_list = np.append(stop_list, x.shape[0])\n",
    "        start_list = np.append(start_list, x.shape[0] - segment_length)\n",
    "\n",
    "    # Create list of subarrays using a list comprehension\n",
    "    x_segments = [ x[start:stop,...] for start, stop in zip(start_list,\n",
    "        stop_list)]\n",
    "\n",
    "    # Now stack the subarrays\n",
    "    x_segments = np.stack(x_segments, axis=1)\n",
    "\n",
    "    return x_segments, start_list, stop_list"
   ]
  },
  {
   "cell_type": "code",
   "execution_count": 118,
   "metadata": {},
   "outputs": [],
   "source": [
    "def stft(x, segment_length, segment_length_padded, shift_length,\n",
    "        window_function):\n",
    "    \"\"\"Transfer signal from time domain to frequency domain.\n",
    "    \n",
    "    The short-time Fourier transform (STFT) breaks an N-dimensional array\n",
    "    along the first axis into disjoint chunks (possibly overlapping) and \n",
    "    take a 1D FFT (Fast Fourier Transform) of each chunk along the first\n",
    "    dimension.\n",
    "    \n",
    "    Parameters\n",
    "    ----------\n",
    "    x : array_like\n",
    "        Input array, expected to be real.\n",
    "    segment_length : int\n",
    "        length of segments to split \n",
    "    segment_length_padded : int\n",
    "        segment length with zero padding\n",
    "    shift_length : int\n",
    "        shift length 1 <= shift_length <= segment_length allows overlapping\n",
    "        segments\n",
    "    window_function : scipy.signal.window object\n",
    "        window from scipy.signal.windows\n",
    "    \n",
    "    Returns\n",
    "    -------\n",
    "    x_stft : complex ndarray\n",
    "        complex array representing short-time Fourier transform of ``x``.\n",
    "        Only the positive frequencies are returned because ``x`` assumed\n",
    "        to be real. The shape is (segment_length, number segments, ...)\n",
    "    Examples\n",
    "    --------\n",
    "    >>> x = np.ones(16)\n",
    "    >>> segment_length = 4\n",
    "    >>> shift_length = 2\n",
    "    >>> segment_length_padded = 4\n",
    "    >>> from scipy.signal.windows import boxcar\n",
    "    >>> window_function = boxcar\n",
    "    >>> original_size = x.shape\n",
    "    >>> p = 1\n",
    "    >>> x_stft, start_list, stop_list = stft(x, segment_length,\n",
    "    ...     segment_length_padded, shift_length, window_function)\n",
    "    \"\"\"\n",
    "\n",
    "    # input argument checks\n",
    "    if type(x) is not np.ndarray:\n",
    "        raise ValueError(\"x is not numpy array\")\n",
    "    if segment_length > x.shape[0]:\n",
    "        raise ValueError(\"segment_length is greater than x.shape[0]\")\n",
    "    if shift_length <= 0:\n",
    "        raise ValueError(\"shift_length <= 0\")\n",
    "    if shift_length > segment_length:\n",
    "        raise ValueError(\"shift_length > segment_length\")\n",
    "    if segment_length_padded < segment_length:\n",
    "        raise ValueError(\"segment_length_padded < segment_length\")\n",
    "\n",
    "    # create window_vector which is 1D\n",
    "    window_vector = window_nonzero(window_function, segment_length)\n",
    "    \n",
    "    # overlapping segments\n",
    "    x_segments, start_list, stop_list = create_overlapping_segments(x,\n",
    "        segment_length, shift_length)\n",
    "\n",
    "    # create window_array which is the same size as x_segments\n",
    "    window_array = np.ones(x_segments.shape)\n",
    "    for i in range(window_array.shape[0]):\n",
    "        window_array[i] = window_array[i] * window_vector[i]\n",
    "    \n",
    "    # apply window to signals\n",
    "    x_segments = window_array * x_segments\n",
    "\n",
    "    # take fft\n",
    "    x_stft = np.fft.rfft(x_segments, n=segment_length_padded, axis=0)\n",
    "\n",
    "    return x_stft, start_list, stop_list\n"
   ]
  },
  {
   "cell_type": "code",
   "execution_count": 330,
   "metadata": {},
   "outputs": [],
   "source": [
    "x = 2*np.cos(20*np.linspace(0,np.pi*2,100))+np.cos(np.linspace(0,np.pi*2,100))\n",
    "segment_length = 5\n",
    "shift_length = 4\n",
    "segment_length_padded = 5\n",
    "from scipy.signal.windows import hann\n",
    "window_function = hann\n",
    "original_size = x.shape\n",
    "p = 2\n",
    "x_stft, start_list, stop_list = stft(x, segment_length,\n",
    "    segment_length_padded, shift_length, window_function)"
   ]
  },
  {
   "cell_type": "code",
   "execution_count": 331,
   "metadata": {},
   "outputs": [
    {
     "name": "stderr",
     "output_type": "stream",
     "text": [
      "/Users/leonardocorreia/opt/anaconda3/lib/python3.9/site-packages/matplotlib/cbook/__init__.py:1298: ComplexWarning: Casting complex values to real discards the imaginary part\n",
      "  return np.asarray(x, float)\n"
     ]
    },
    {
     "data": {
      "text/plain": [
       "[<matplotlib.lines.Line2D at 0x7fb652e4ae20>]"
      ]
     },
     "execution_count": 331,
     "metadata": {},
     "output_type": "execute_result"
    },
    {
     "data": {
      "image/png": "[encoded data removed]",
      "text/plain": [
       "<Figure size 432x288 with 1 Axes>"
      ]
     },
     "metadata": {},
     "output_type": "display_data"
    }
   ],
   "source": [
    "plt.plot(np.linspace(0,np.pi*4,51),np.fft.rfft(x))"
   ]
  },
  {
   "cell_type": "code",
   "execution_count": 296,
   "metadata": {},
   "outputs": [
    {
     "data": {
      "text/plain": [
       "0"
      ]
     },
     "execution_count": 296,
     "metadata": {},
     "output_type": "execute_result"
    }
   ],
   "source": [
    "import random\n",
    "\n",
    "\n",
    "# random.seed(1)\n",
    "random.randrange(1)"
   ]
  }
 ],
 "metadata": {
  "kernelspec": {
   "display_name": "Python 3.9.12 ('base')",
   "language": "python",
   "name": "python3"
  },
  "language_info": {
   "codemirror_mode": {
    "name": "ipython",
    "version": 3
   },
   "file_extension": ".py",
   "mimetype": "text/x-python",
   "name": "python",
   "nbconvert_exporter": "python",
   "pygments_lexer": "ipython3",
   "version": "3.9.12"
  },
  "orig_nbformat": 4,
  "vscode": {
   "interpreter": {
    "hash": "47054c04fbf1a790335207dd27699ceb6709fa978f9c70a01824fcd02b1502aa"
   }
  }
 },
 "nbformat": 4,
 "nbformat_minor": 2
}
