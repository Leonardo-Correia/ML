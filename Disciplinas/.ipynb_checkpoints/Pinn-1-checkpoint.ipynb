{
 "cells": [
  {
   "cell_type": "code",
   "execution_count": 1,
   "metadata": {},
   "outputs": [
    {
     "ename": "ModuleNotFoundError",
     "evalue": "No module named 'matplotlib'",
     "output_type": "error",
     "traceback": [
      "\u001b[0;31m---------------------------------------------------------------------------\u001b[0m",
      "\u001b[0;31mModuleNotFoundError\u001b[0m                       Traceback (most recent call last)",
      "\u001b[1;32m/Users/leonardocorreia/Documents/ML/Disciplinas/Pinn-1.ipynb Célula: 1\u001b[0m in \u001b[0;36m<cell line: 2>\u001b[0;34m()\u001b[0m\n\u001b[1;32m      <a href='vscode-notebook-cell:/Users/leonardocorreia/Documents/ML/Disciplinas/Pinn-1.ipynb#W0sZmlsZQ%3D%3D?line=0'>1</a>\u001b[0m \u001b[39mimport\u001b[39;00m \u001b[39mnumpy\u001b[39;00m \u001b[39mas\u001b[39;00m \u001b[39mnp\u001b[39;00m\n\u001b[0;32m----> <a href='vscode-notebook-cell:/Users/leonardocorreia/Documents/ML/Disciplinas/Pinn-1.ipynb#W0sZmlsZQ%3D%3D?line=1'>2</a>\u001b[0m \u001b[39mimport\u001b[39;00m \u001b[39mmatplotlib\u001b[39;00m\u001b[39m.\u001b[39;00m\u001b[39mpyplot\u001b[39;00m \u001b[39mas\u001b[39;00m \u001b[39mplt\u001b[39;00m\n",
      "\u001b[0;31mModuleNotFoundError\u001b[0m: No module named 'matplotlib'"
     ]
    }
   ],
   "source": [
    "import numpy as np\n",
    "import matplotlib.pyplot as plt"
   ]
  },
  {
   "cell_type": "markdown",
   "metadata": {},
   "source": [
    "Considerando a equação do fluxo fracionado: \n",
    "\n",
    "$$f_w(u)= \\frac{u^{2}}{u^{2}+\\frac{(1-u)^{2}}{M}}$$\n",
    "\n",
    "A equação de Buckley–Leverett de uma dimenssão é:\n",
    "\n",
    "$$u_t + f_w(u)_x = 0$$\n",
    "\n",
    "Considerando uma funcão em quasi-linearidade com duas variáveis $\\phi(x,y)$, podemos substituir na equação diferencial de Buckley–Leverett:\n",
    "\n",
    "$$u\\frac{\\partial \\phi}{\\partial t} + f_w(u)\\frac{\\partial \\phi}{\\partial x} = 0$$\n",
    "\n",
    "Resolvendo a equação acima por Weak Solution para $M = 1$ e $u(x_0) = u_0(x)$:\n",
    "\n",
    "$$\\int \\int \\left ( u\\frac{\\partial \\phi}{\\partial t} + f_w(u)\\frac{\\partial \\phi}{\\partial x} \\right )dtdx = 0$$\n",
    "\n",
    "Encontramos a solução analítica para $u(x)$ em um instante de tempo $t$ específico:\n",
    "\n",
    "$$u(x) = \\left\\{\\begin{matrix}\n",
    "\\frac{1}{2}\\left ( \\sqrt{\\frac{-2\\frac{x}{t}-1+\\sqrt{1+4\\frac{x}{t}}}{\\frac{x}{t}}} +1\\right )  ,\\frac{x}{t} <  \\frac{(1+\\sqrt{2})}{2} \n",
    "\n",
    "\\\\ \n",
    "\n",
    "0,\\frac{x}{t} \\geq \\frac{(1+\\sqrt{2})}{2} \n",
    "\n",
    "\\end{matrix}\\right.$$"
   ]
  },
  {
   "cell_type": "code",
   "execution_count": 11,
   "metadata": {},
   "outputs": [],
   "source": [
    "#Definindo a função u(x)\n",
    "def u(x,t):\n",
    "    v = x/t\n",
    "    if v < (1+np.sqrt(2))*1/2:\n",
    "        return 0.5*(np.sqrt((((-2*v)+np.sqrt(1+4*v)-1)/(v)) +1)+1)\n",
    "    else:\n",
    "        return 0"
   ]
  },
  {
   "cell_type": "code",
   "execution_count": 12,
   "metadata": {},
   "outputs": [
    {
     "name": "stderr",
     "output_type": "stream",
     "text": [
      "/var/folders/1z/t07mkwr55sqbw9ld5m6_dhvm0000gn/T/ipykernel_15245/2140474618.py:5: RuntimeWarning: invalid value encountered in double_scalars\n",
      "  return 0.5*(np.sqrt((((-2*v)+np.sqrt(1+4*v)-1)/(v)) +1)+1)\n"
     ]
    },
    {
     "data": {
      "text/plain": [
       "[<matplotlib.lines.Line2D at 0x7fd731ec9f40>]"
      ]
     },
     "execution_count": 12,
     "metadata": {},
     "output_type": "execute_result"
    },
    {
     "data": {
      "image/png": "[encoded data removed]",
      "text/plain": [
       "<Figure size 640x480 with 1 Axes>"
      ]
     },
     "metadata": {},
     "output_type": "display_data"
    }
   ],
   "source": [
    "#Criando a curva \n",
    "t = 0.4 #Momento de tempo especificado \n",
    "val = []\n",
    "for i in np.linspace(0,1,21):\n",
    "    val.append(u(i,t))\n",
    "\n",
    "plt.plot(np.linspace(0,1,21),val)"
   ]
  },
  {
   "cell_type": "code",
   "execution_count": 3,
   "metadata": {},
   "outputs": [],
   "source": [
    "from manim import *"
   ]
  },
  {
   "cell_type": "code",
   "execution_count": 4,
   "metadata": {},
   "outputs": [],
   "source": [
    "\n",
    "class PlotExample(Scene):\n",
    "    \n",
    "    def construct(self):\n",
    "        title = Tex(r\"Bucklery-Leverett\").to_corner(UP+LEFT)\n",
    "        self.play(Create(title))\n",
    "        self.wait(1)\n",
    "        plot_axes = Axes(\n",
    "            x_range=[0, 1, 0.05],\n",
    "            y_range=[0, 1, 0.05],\n",
    "            x_length=9,\n",
    "            y_length=5,\n",
    "            axis_config={\n",
    "                \"numbers_to_include\": np.arange(0, 1 + 0.1, 0.1),\n",
    "                \"font_size\": 24,\n",
    "            },\n",
    "            tips=False,\n",
    "        )\n",
    "        \n",
    "        t1 = 0.1\n",
    "        \n",
    "        u1 = FunctionGraph(\n",
    "        lambda x: 1 if x<0 else (0.5*(np.sqrt(((((-2*(x/t1)+np.sqrt(1+4*(x/t1))-1)/(x/t1)+ 1)))+1)) if((x/t1)<(1+np.sqrt(2))*1/2) else 0),\n",
    "        x_range = ([0.001,1.3]),\n",
    "        ).scale(7).move_to([0,0,0]).set_color(RED)\n",
    "        \n",
    "        t2 = 0.2\n",
    "        \n",
    "        u2 = FunctionGraph(\n",
    "        lambda x: 1 if x<0 else (0.5*(np.sqrt(((((-2*(x/t2)+np.sqrt(1+4*(x/t2))-1)/(x/t2)+ 1)))+1)) if((x/t2)<(1+np.sqrt(2))*1/2) else 0),\n",
    "        x_range = ([0.001,1.3]),\n",
    "        ).scale(7).move_to([0,0,0]).set_color(RED)\n",
    "        \n",
    "        t3 = 0.4\n",
    "        \n",
    "        u3 = FunctionGraph(\n",
    "        lambda x: 1 if x<0 else (0.5*(np.sqrt(((((-2*(x/t3)+np.sqrt(1+4*(x/t3))-1)/(x/t3)+ 1)))+1)) if((x/t3)<(1+np.sqrt(2))*1/2) else 0),\n",
    "        x_range = ([0.001,1.3]),\n",
    "        ).scale(7).move_to([0,0,0]).set_color(RED)\n",
    "        \n",
    "        t4 = 0.8\n",
    "        \n",
    "        u4 = FunctionGraph(\n",
    "        lambda x: 1 if x<0 else (0.5*(np.sqrt(((((-2*(x/t4)+np.sqrt(1+4*(x/t4))-1)/(x/t4)+ 1)))+1)) if((x/t4)<(1+np.sqrt(2))*1/2) else 0),\n",
    "        x_range = ([0.001,1.3]),\n",
    "        ).scale(7).move_to([0,0,0]).set_color(RED)\n",
    "        \n",
    "        self.play(Create(plot_axes),run_time = 3)\n",
    "        \n",
    "        t_1,t_2,t_3,t_4 = MathTex(\"t=0.1\").shift(3*RIGHT+3*UP),MathTex(\"t=0.2\").shift(3*RIGHT+3*UP),MathTex(\"t=0.4\").shift(3*RIGHT+3*UP),MathTex(\"t=0.8\").shift(3*RIGHT+3*UP)\n",
    "        \n",
    "        self.play(Create(u1),Write(t_1),run_time=2)\n",
    "        \n",
    "        self.wait(2)\n",
    "        \n",
    "        self.play(Transform(u1,u2),Transform(t_1,t_2),run_time = 3)\n",
    "        self.wait(2)\n",
    "        self.play(Transform(u1,u3),Transform(t_1,t_3),run_time = 3)\n",
    "        self.wait(2)\n",
    "        self.play(Transform(u1,u4),Transform(t_1,t_4),run_time = 3)\n",
    "        self.wait(2)"
   ]
  }
 ],
 "metadata": {
  "kernelspec": {
   "display_name": "Python 3 (ipykernel)",
   "language": "python",
   "name": "python3"
  },
  "language_info": {
   "codemirror_mode": {
    "name": "ipython",
    "version": 3
   },
   "file_extension": ".py",
   "mimetype": "text/x-python",
   "name": "python",
   "nbconvert_exporter": "python",
   "pygments_lexer": "ipython3",
   "version": "3.10.6"
  },
  "vscode": {
   "interpreter": {
    "hash": "c3d73496ad864bb9618f6b05683fbac58433339514b241b9a186c4833acb2a7b"
   }
  }
 },
 "nbformat": 4,
 "nbformat_minor": 2
}
