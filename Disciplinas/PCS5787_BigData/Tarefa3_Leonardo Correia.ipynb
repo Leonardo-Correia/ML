{
 "cells": [
  {
   "cell_type": "markdown",
   "metadata": {},
   "source": [
    "Atividade 3 - Leonardo Correia \n",
    "\n",
    "Programa de pós graduação "
   ]
  },
  {
   "cell_type": "code",
   "execution_count": 89,
   "metadata": {},
   "outputs": [],
   "source": [
    "# Ativação das bibliotecas principais.\n",
    "\n",
    "import numpy as np \n",
    "import matplotlib.pyplot as plt \n",
    "import pandas as pd"
   ]
  },
  {
   "cell_type": "code",
   "execution_count": 109,
   "metadata": {},
   "outputs": [
    {
     "data": {
      "text/html": [
       "<div>\n",
       "<style scoped>\n",
       "    .dataframe tbody tr th:only-of-type {\n",
       "        vertical-align: middle;\n",
       "    }\n",
       "\n",
       "    .dataframe tbody tr th {\n",
       "        vertical-align: top;\n",
       "    }\n",
       "\n",
       "    .dataframe thead th {\n",
       "        text-align: right;\n",
       "    }\n",
       "</style>\n",
       "<table border=\"1\" class=\"dataframe\">\n",
       "  <thead>\n",
       "    <tr style=\"text-align: right;\">\n",
       "      <th></th>\n",
       "      <th>Observação</th>\n",
       "      <th>Data</th>\n",
       "      <th>Mês</th>\n",
       "      <th>Ano - Safra</th>\n",
       "      <th>Preços - Milho</th>\n",
       "      <th>Preços - Soja</th>\n",
       "    </tr>\n",
       "  </thead>\n",
       "  <tbody>\n",
       "    <tr>\n",
       "      <th>0</th>\n",
       "      <td>1</td>\n",
       "      <td>02/01/2014</td>\n",
       "      <td>1</td>\n",
       "      <td>2014</td>\n",
       "      <td>26.64</td>\n",
       "      <td>72.18</td>\n",
       "    </tr>\n",
       "    <tr>\n",
       "      <th>1</th>\n",
       "      <td>2</td>\n",
       "      <td>03/01/2014</td>\n",
       "      <td>1</td>\n",
       "      <td>2014</td>\n",
       "      <td>27.00</td>\n",
       "      <td>71.42</td>\n",
       "    </tr>\n",
       "    <tr>\n",
       "      <th>2</th>\n",
       "      <td>3</td>\n",
       "      <td>06/01/2014</td>\n",
       "      <td>1</td>\n",
       "      <td>2014</td>\n",
       "      <td>27.29</td>\n",
       "      <td>71.38</td>\n",
       "    </tr>\n",
       "    <tr>\n",
       "      <th>3</th>\n",
       "      <td>4</td>\n",
       "      <td>07/01/2014</td>\n",
       "      <td>1</td>\n",
       "      <td>2014</td>\n",
       "      <td>27.49</td>\n",
       "      <td>70.31</td>\n",
       "    </tr>\n",
       "    <tr>\n",
       "      <th>4</th>\n",
       "      <td>5</td>\n",
       "      <td>08/01/2014</td>\n",
       "      <td>1</td>\n",
       "      <td>2014</td>\n",
       "      <td>27.16</td>\n",
       "      <td>70.14</td>\n",
       "    </tr>\n",
       "    <tr>\n",
       "      <th>...</th>\n",
       "      <td>...</td>\n",
       "      <td>...</td>\n",
       "      <td>...</td>\n",
       "      <td>...</td>\n",
       "      <td>...</td>\n",
       "      <td>...</td>\n",
       "    </tr>\n",
       "    <tr>\n",
       "      <th>493</th>\n",
       "      <td>494</td>\n",
       "      <td>22/12/2015</td>\n",
       "      <td>12</td>\n",
       "      <td>2015</td>\n",
       "      <td>36.23</td>\n",
       "      <td>78.61</td>\n",
       "    </tr>\n",
       "    <tr>\n",
       "      <th>494</th>\n",
       "      <td>495</td>\n",
       "      <td>23/12/2015</td>\n",
       "      <td>12</td>\n",
       "      <td>2015</td>\n",
       "      <td>36.26</td>\n",
       "      <td>78.21</td>\n",
       "    </tr>\n",
       "    <tr>\n",
       "      <th>495</th>\n",
       "      <td>496</td>\n",
       "      <td>28/12/2015</td>\n",
       "      <td>12</td>\n",
       "      <td>2015</td>\n",
       "      <td>36.29</td>\n",
       "      <td>77.59</td>\n",
       "    </tr>\n",
       "    <tr>\n",
       "      <th>496</th>\n",
       "      <td>497</td>\n",
       "      <td>29/12/2015</td>\n",
       "      <td>12</td>\n",
       "      <td>2015</td>\n",
       "      <td>36.55</td>\n",
       "      <td>78.55</td>\n",
       "    </tr>\n",
       "    <tr>\n",
       "      <th>497</th>\n",
       "      <td>498</td>\n",
       "      <td>30/12/2015</td>\n",
       "      <td>12</td>\n",
       "      <td>2015</td>\n",
       "      <td>36.83</td>\n",
       "      <td>78.07</td>\n",
       "    </tr>\n",
       "  </tbody>\n",
       "</table>\n",
       "<p>497 rows × 6 columns</p>\n",
       "</div>"
      ],
      "text/plain": [
       "     Observação        Data  Mês  Ano - Safra  Preços - Milho  Preços - Soja\n",
       "0             1  02/01/2014    1         2014           26.64          72.18\n",
       "1             2  03/01/2014    1         2014           27.00          71.42\n",
       "2             3  06/01/2014    1         2014           27.29          71.38\n",
       "3             4  07/01/2014    1         2014           27.49          70.31\n",
       "4             5  08/01/2014    1         2014           27.16          70.14\n",
       "..          ...         ...  ...          ...             ...            ...\n",
       "493         494  22/12/2015   12         2015           36.23          78.61\n",
       "494         495  23/12/2015   12         2015           36.26          78.21\n",
       "495         496  28/12/2015   12         2015           36.29          77.59\n",
       "496         497  29/12/2015   12         2015           36.55          78.55\n",
       "497         498  30/12/2015   12         2015           36.83          78.07\n",
       "\n",
       "[497 rows x 6 columns]"
      ]
     },
     "execution_count": 109,
     "metadata": {},
     "output_type": "execute_result"
    }
   ],
   "source": [
    "#Recebimento do DataFrame (Soja_Milho)\n",
    "\n",
    "df = pd.read_excel('soja_milho.xlsx')\n",
    "df.drop(5)"
   ]
  },
  {
   "cell_type": "code",
   "execution_count": 92,
   "metadata": {},
   "outputs": [],
   "source": [
    "#Criando o Dataset predito\n",
    "\n",
    "vet_pred = []\n",
    "\n",
    "for i in range(len(df['Mês'])):\n",
    "    if int(df['Data'][i][6:]) ==2014 and int(df['Preços - Soja'][i])>=67:\n",
    "        vet_pred.append('Colheita')\n",
    "    elif int(df['Data'][i][6:]) ==2015 and int(df['Preços - Soja'][i])>=58 and int(df['Preços - Soja'][i])<=62:\n",
    "        vet_pred.append('Colheita')\n",
    "    else:\n",
    "        vet_pred.append('Plantio')\n",
    "    "
   ]
  },
  {
   "cell_type": "code",
   "execution_count": 94,
   "metadata": {},
   "outputs": [],
   "source": [
    "#Criando o dataset verdadeiro\n",
    "vet_true = []\n",
    "for i in range(len(df['Mês'])):\n",
    "    if int(df['Data'][i][3:5]) <= 5:\n",
    "        vet_true.append('Colheita')\n",
    "    else:\n",
    "        vet_true.append('Plantio')"
   ]
  },
  {
   "cell_type": "code",
   "execution_count": 110,
   "metadata": {},
   "outputs": [
    {
     "name": "stdout",
     "output_type": "stream",
     "text": [
      "              precision    recall  f1-score   support\n",
      "\n",
      "    Colheita       0.84      0.68      0.75       203\n",
      "     Plantio       0.81      0.91      0.86       295\n",
      "\n",
      "    accuracy                           0.82       498\n",
      "   macro avg       0.82      0.80      0.80       498\n",
      "weighted avg       0.82      0.82      0.81       498\n",
      "\n"
     ]
    },
    {
     "data": {
      "text/plain": [
       "<sklearn.metrics._plot.confusion_matrix.ConfusionMatrixDisplay at 0x7fe0801b6610>"
      ]
     },
     "execution_count": 110,
     "metadata": {},
     "output_type": "execute_result"
    },
    {
     "data": {
      "image/png": "[encoded data removed]",
      "text/plain": [
       "<Figure size 432x288 with 2 Axes>"
      ]
     },
     "metadata": {},
     "output_type": "display_data"
    }
   ],
   "source": [
    "#Calculando as métricas de classificação \n",
    "from sklearn.metrics import confusion_matrix\n",
    "from sklearn.metrics import classification_report\n",
    "from sklearn.metrics import ConfusionMatrixDisplay\n",
    "\n",
    "target_names = ['Colheita', 'Plantio']\n",
    "print(classification_report(vet_true, vet_pred, target_names=target_names)) #Valores de Precição, recall e F1-Score\n",
    "\n",
    "ConfusionMatrixDisplay.from_predictions(vet_true, vet_pred) #Determinação dos valores da Matriz de Confusão\n"
   ]
  },
  {
   "cell_type": "code",
   "execution_count": 108,
   "metadata": {},
   "outputs": [
    {
     "name": "stderr",
     "output_type": "stream",
     "text": [
      "/Users/leonardocorreia/opt/anaconda3/lib/python3.9/site-packages/sklearn/metrics/_ranking.py:999: UndefinedMetricWarning: No positive samples in y_true, true positive value should be meaningless\n",
      "  warnings.warn(\n"
     ]
    },
    {
     "data": {
      "text/plain": [
       "<sklearn.metrics._plot.roc_curve.RocCurveDisplay at 0x7fe0d42a2cd0>"
      ]
     },
     "execution_count": 108,
     "metadata": {},
     "output_type": "execute_result"
    },
    {
     "data": {
      "image/png": "[encoded data removed]",
      "text/plain": [
       "<Figure size 432x288 with 1 Axes>"
      ]
     },
     "metadata": {},
     "output_type": "display_data"
    }
   ],
   "source": [
    "#Criação da Curva ROC.\n",
    "\n",
    "from sklearn.metrics import roc_curve, auc\n",
    "\n",
    "#Convertendo os valores Boleanos para valores numéricos 0-1\n",
    "vet_true_roc = []\n",
    "vet_pred_roc = []\n",
    "for i in range(len(vet_true)):\n",
    "    if vet_true[i] == 'Colheita':\n",
    "        vet_true_roc.append(1)\n",
    "    if vet_true[i] == 'Plantio':\n",
    "        vet_true_roc.append(0)\n",
    "    if vet_pred[i] == 'Colheita':\n",
    "        vet_pred_roc.append(1)\n",
    "    if vet_pred[i] == 'Plantio':\n",
    "        vet_pred_roc.append(0)\n",
    "\n",
    "\n",
    "from sklearn.metrics import RocCurveDisplay\n",
    "RocCurveDisplay.from_predictions(vet_true_roc, vet_pred_roc)"
   ]
  }
 ],
 "metadata": {
  "kernelspec": {
   "display_name": "Python 3 (ipykernel)",
   "language": "python",
   "name": "python3"
  },
  "language_info": {
   "codemirror_mode": {
    "name": "ipython",
    "version": 3
   },
   "file_extension": ".py",
   "mimetype": "text/x-python",
   "name": "python",
   "nbconvert_exporter": "python",
   "pygments_lexer": "ipython3",
   "version": "3.9.12"
  },
  "vscode": {
   "interpreter": {
    "hash": "47054c04fbf1a790335207dd27699ceb6709fa978f9c70a01824fcd02b1502aa"
   }
  }
 },
 "nbformat": 4,
 "nbformat_minor": 2
}
